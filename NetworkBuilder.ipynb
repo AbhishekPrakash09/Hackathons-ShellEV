{
 "cells": [
  {
   "cell_type": "code",
   "execution_count": 1,
   "id": "dbd097b0",
   "metadata": {},
   "outputs": [],
   "source": [
    "import pandas as pd\n",
    "import numpy as np\n",
    "\n",
    "df_solution_2019 = pd.read_csv('Solution Network_2019_.csv')"
   ]
  },
  {
   "cell_type": "code",
   "execution_count": 2,
   "id": "29f695e8",
   "metadata": {},
   "outputs": [],
   "source": [
    "df_sample_submission = pd.read_csv('sample_submission_template.csv')"
   ]
  },
  {
   "cell_type": "code",
   "execution_count": null,
   "id": "7c18fb81",
   "metadata": {},
   "outputs": [],
   "source": [
    "for i in range (len(df_solution_2019)):\n",
    "    year = df_solution_2019['year'][i]\n",
    "    demand_point_index = df_solution_2019['demand_point_index'][i]\n",
    "    supply_point_index = df_solution_2019['supply_point_index'][i]\n",
    "    value = df_solution_2019['value'][i]\n",
    "    index = (df_sample_submission.loc[df_sample_submission.supply_point_index == supply_point_index]).loc[df_sample_submission.demand_point_index==demand_point_index].index\n",
    "    index_2019 = index.values[0]\n",
    "    df_sample_submission.at[index_2019, 'value'] = value"
   ]
  },
  {
   "cell_type": "code",
   "execution_count": null,
   "id": "5146400e",
   "metadata": {},
   "outputs": [],
   "source": [
    "df_solution_2020 = pd.read_csv('Solution Network_2020_.csv')"
   ]
  },
  {
   "cell_type": "code",
   "execution_count": null,
   "id": "9d7cd743",
   "metadata": {},
   "outputs": [],
   "source": [
    "for i in range (len(df_solution_2020)):\n",
    "    year = df_solution_2020['year'][i]\n",
    "    demand_point_index = df_solution_2020['demand_point_index'][i]\n",
    "    supply_point_index = df_solution_2020['supply_point_index'][i]\n",
    "    value = df_solution_2020['value'][i]\n",
    "    index = (df_sample_submission.loc[df_sample_submission.supply_point_index == supply_point_index]).loc[df_sample_submission.demand_point_index==demand_point_index].index\n",
    "    index_2020 = index.values[1]\n",
    "    df_sample_submission.at[index_2020, 'value'] = value"
   ]
  },
  {
   "cell_type": "code",
   "execution_count": null,
   "id": "b0df07e4",
   "metadata": {},
   "outputs": [],
   "source": [
    "df_sample_submission.to_csv('Solution.csv')"
   ]
  },
  {
   "cell_type": "code",
   "execution_count": null,
   "id": "75de45d7",
   "metadata": {},
   "outputs": [],
   "source": []
  }
 ],
 "metadata": {
  "kernelspec": {
   "display_name": "Python 3 (ipykernel)",
   "language": "python",
   "name": "python3"
  },
  "language_info": {
   "codemirror_mode": {
    "name": "ipython",
    "version": 3
   },
   "file_extension": ".py",
   "mimetype": "text/x-python",
   "name": "python",
   "nbconvert_exporter": "python",
   "pygments_lexer": "ipython3",
   "version": "3.9.12"
  }
 },
 "nbformat": 4,
 "nbformat_minor": 5
}
